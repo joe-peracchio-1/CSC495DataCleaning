{
 "cells": [
  {
   "cell_type": "code",
   "execution_count": 3,
   "id": "42c64b97",
   "metadata": {},
   "outputs": [
    {
     "name": "stdout",
     "output_type": "stream",
     "text": [
      "{'8', '9', '4', '3', '.', ',', '2', '7', '5', ':', '1', '6'}\n"
     ]
    }
   ],
   "source": [
    "file_path = \"secondbook.txt\"\n",
    "deleted_lines = []\n",
    "header_names = [\"Introduction\", \"Three constructivisms\", \"Constructivism in International Relations\", \"German military involvement abroad\", \n",
    "               \"German military involvement abroad\", \"Plan of the book\", \"Identity change? Wendt's constructivism\", \"The identity move\", \n",
    "               \"Collective identity\", \"Collective identity reconsidered\", \"The identity of identity\", \n",
    "               \"Intersubjectivity and the normative; Kratochwil's constructivism and German military involvement abroad\", \n",
    "               \"The significance of the normative\", \"Norms as the basis of intersubjectivity\", \"Worlds and world: Onuf's constructivism and German military involvement abroad\", \n",
    "               \"Worlds making the world\", 'The normative effects of speech acts', \"Speech acts: success and failure\", \"The politics of words and worlds\", \n",
    "               \"The politics of 'reality': Derrida's subversions, constructivism and German military involvement abroad\", \n",
    "               \"The impossibility of pure presence and the politics of the 'real'\", \"The 'reality' of international politics\", \n",
    "               \"Everyday 'reality'\", \"'Reality' as raw material\", \"The politics of constructivism\", \"The politics of constructivism\", \n",
    "               \"Responsibility in international relations\", \"Constructivism, reality, International Relations\", \"Bibliography\", \"Index\", \"The politics of 'reality'\"]\n",
    "\n",
    "footnote_names = set()\n",
    "for x in range(500):\n",
    "    footnote_names.add(\".\"+str(x))\n",
    "\n",
    "ns_list = [\"1\", \"2\", \"3\", \"4\", \"5\", \"6\", \"7\", \"8\", \"9\", \".\", \":\", \",\"]  \n",
    "non_starters = set(ns_list)\n",
    "print(non_starters)\n",
    "\n",
    "# Open the file in read mode\n",
    "with open(file_path, 'r', encoding='utf-8') as file:\n",
    "    lines = file.readlines()\n",
    "    for line in lines:\n",
    "        line = line.strip()\n",
    "        if len(line) == 0: \n",
    "            deleted_lines.append(line)\n",
    "            continue\n",
    "        if line[0] in non_starters:\n",
    "            deleted_lines.append(line)\n",
    "        if line in header_names:\n",
    "            deleted_lines.append(line)\n",
    "\n",
    "output_file_path = \"cleanedsecondbook.txt\"     \n",
    "    \n",
    "filter_condition = lambda line: line.strip() not in deleted_lines\n",
    "\n",
    "# Use the filter function to get the filtered lines\n",
    "filtered_lines = filter(filter_condition, lines)\n",
    "\n",
    "with open(output_file_path, 'w', encoding='utf-8') as outfile:\n",
    "    outfile.writelines(filtered_lines)"
   ]
  },
  {
   "cell_type": "code",
   "execution_count": null,
   "id": "d24d4590",
   "metadata": {},
   "outputs": [],
   "source": []
  }
 ],
 "metadata": {
  "kernelspec": {
   "display_name": "Python 3 (ipykernel)",
   "language": "python",
   "name": "python3"
  },
  "language_info": {
   "codemirror_mode": {
    "name": "ipython",
    "version": 3
   },
   "file_extension": ".py",
   "mimetype": "text/x-python",
   "name": "python",
   "nbconvert_exporter": "python",
   "pygments_lexer": "ipython3",
   "version": "3.9.13"
  }
 },
 "nbformat": 4,
 "nbformat_minor": 5
}
